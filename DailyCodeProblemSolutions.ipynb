{
 "cells": [
  {
   "cell_type": "markdown",
   "metadata": {},
   "source": [
    "Given an array of numbers, return whether any two sums to K.\n",
    "\n",
    "For example, given [10, 15, 3, 7] and K of 17, return true since 10 + 7 is 17."
   ]
  },
  {
   "cell_type": "code",
   "execution_count": 163,
   "metadata": {
    "collapsed": true
   },
   "outputs": [],
   "source": [
    "#naive approach\n",
    "from itertools import combinations\n",
    "def pair_sum_check(A, k):\n",
    "    return any(i+j == k for i, j in combinations(A, 2))\n",
    "\n",
    "#O(nlgn) approach\n",
    "def binary_search(seq, t):\n",
    "    min = 0\n",
    "    max = len(seq) - 1\n",
    "    while True:\n",
    "        if max < min:\n",
    "            return -1\n",
    "        m = (min + max) // 2\n",
    "        if seq[m] < t:\n",
    "            min = m + 1\n",
    "        elif seq[m] > t:\n",
    "            max = m - 1\n",
    "        else:\n",
    "            return m\n",
    "\n",
    "def pair_sum_check_2(A, k):\n",
    "    return any(binary_search(A[i:], k-e) != -1 for i, e in enumerate(sorted(A)))\n",
    "    \n",
    "#O(n) approach - requires bounded range of numbers in A\n",
    "from collections import defaultdict\n",
    "def pair_sum_check_3(A, k):\n",
    "    win_path = defaultdict(bool)\n",
    "    for i in A:\n",
    "        if win_path[k-i]:\n",
    "            return True\n",
    "        else:\n",
    "            win_path[i] = True\n",
    "    return False\n",
    "\n",
    "#the probably faster in python approach\n",
    "def pair_sum_check_4(A, k):\n",
    "    win_path = set(A)\n",
    "    return any(k-i in win_path for i in A)\n",
    "\n",
    "#generalized version\n",
    "def n_sum_check(A, k):\n",
    "    win_path = set()\n",
    "    for i in A:\n",
    "        if k-i in win_path:\n",
    "            return True\n",
    "        else:\n",
    "            new_paths = set()\n",
    "            new_paths.add(i)\n",
    "            for j in win_path:\n",
    "                new_paths.add(i+j)\n",
    "            win_path = win_path.union(new_paths)\n",
    "    return False\n",
    "        \n",
    "    "
   ]
  },
  {
   "cell_type": "markdown",
   "metadata": {},
   "source": [
    "Given an array of integers, return a new array such that each element at index i of the new array is the product of all the numbers in the original array except the one at i. Solve it without using division and in O(n) time.\n",
    "\n",
    "For example, if our input was [1, 2, 3, 4, 5], the expected output would be [120, 60, 40, 30, 24]. If our input was [3, 2, 1], the expected output would be [2, 3, 6]."
   ]
  },
  {
   "cell_type": "code",
   "execution_count": 164,
   "metadata": {
    "collapsed": true
   },
   "outputs": [],
   "source": [
    "def product_complement(A):\n",
    "    A2 = [1] * len(A)\n",
    "    for i, _ in enumerate(A[1:], 1):\n",
    "        A2[i] *= A[i-1] * A2[i-1]\n",
    "    \n",
    "    A3 = [1] * len(A)\n",
    "    for i, _ in reversed(list(enumerate(A[:-1], 0))):\n",
    "        A3[i] *= A[i+1] * A3[i+1] \n",
    "        \n",
    "    return [i*j for i, j in zip(A2, A3)]"
   ]
  },
  {
   "cell_type": "code",
   "execution_count": null,
   "metadata": {
    "collapsed": true
   },
   "outputs": [],
   "source": []
  },
  {
   "cell_type": "code",
   "execution_count": null,
   "metadata": {
    "collapsed": true
   },
   "outputs": [],
   "source": []
  },
  {
   "cell_type": "code",
   "execution_count": 165,
   "metadata": {},
   "outputs": [
    {
     "data": {
      "text/plain": [
       "False"
      ]
     },
     "execution_count": 165,
     "metadata": {},
     "output_type": "execute_result"
    }
   ],
   "source": [
    "\n",
    "pair_sum_check_4([10, 15, 3, 7],11 )"
   ]
  },
  {
   "cell_type": "code",
   "execution_count": 149,
   "metadata": {},
   "outputs": [
    {
     "name": "stdout",
     "output_type": "stream",
     "text": [
      "7.72 ms ± 1.44 ms per loop (mean ± std. dev. of 7 runs, 100 loops each)\n",
      "3.88 ms ± 146 µs per loop (mean ± std. dev. of 7 runs, 100 loops each)\n",
      "99.3 µs ± 15 µs per loop (mean ± std. dev. of 7 runs, 10000 loops each)\n",
      "43 µs ± 679 ns per loop (mean ± std. dev. of 7 runs, 10000 loops each)\n"
     ]
    }
   ],
   "source": [
    "import random\n",
    "A = [random.choice(range(10000)) for _ in range(1000)]\n",
    "\n",
    "%timeit pair_sum_check(A, random.randint(1,20000))\n",
    "%timeit pair_sum_check_2(A, random.randint(1,20000))\n",
    "%timeit pair_sum_check_3(A, random.randint(1,20000))\n",
    "%timeit pair_sum_check_4(A, random.randint(1,20000))\n"
   ]
  },
  {
   "cell_type": "code",
   "execution_count": 167,
   "metadata": {},
   "outputs": [
    {
     "name": "stdout",
     "output_type": "stream",
     "text": [
      "The slowest run took 35.36 times longer than the fastest. This could mean that an intermediate result is being cached.\n",
      "3.29 s ± 4.14 s per loop (mean ± std. dev. of 7 runs, 10 loops each)\n"
     ]
    }
   ],
   "source": [
    "%timeit n_sum_check(A, random.randint(1,20000))"
   ]
  },
  {
   "cell_type": "code",
   "execution_count": null,
   "metadata": {
    "collapsed": true
   },
   "outputs": [],
   "source": []
  },
  {
   "cell_type": "code",
   "execution_count": null,
   "metadata": {
    "collapsed": true
   },
   "outputs": [],
   "source": []
  },
  {
   "cell_type": "markdown",
   "metadata": {},
   "source": [
    "This problem was asked by Google.\n",
    "\n",
    "Given the root to a binary tree, implement serialize(root), which serializes the tree into a string, and deserialize(s), which deserializes the string back into the tree."
   ]
  },
  {
   "cell_type": "code",
   "execution_count": 102,
   "metadata": {
    "collapsed": true
   },
   "outputs": [],
   "source": [
    "from itertools import count\n",
    "\n",
    "class Node:\n",
    "    \n",
    "    def __init__(self, name):\n",
    "        self.name = name\n",
    "        self.left = None\n",
    "        self.right = None\n",
    "\n",
    "\n",
    "from queue import Queue\n",
    "\n",
    "\n",
    "\n",
    "def serialize(root, delimiter=','):\n",
    "    def serializer(root):\n",
    "        q = Queue()\n",
    "        q.put(root)\n",
    "        while True: \n",
    "            if q.empty(): break\n",
    "            root = q.get()\n",
    "            if root.left: q.put(root.left)\n",
    "            if root.right: q.put(root.right)\n",
    "            yield root.name\n",
    "     \n",
    "    return delimiter.join([i for i in serializer(root)])\n",
    "\n",
    "def deserialize(s, delimiter=','):\n",
    "    nodes = [Node(name) for name in s.split(delimiter)]\n",
    "    for index, node in enumerate(nodes[:len(nodes)//2]):\n",
    "        left_index = index*2+1\n",
    "        if left_index < len(nodes):\n",
    "            node.left = nodes[left_index]\n",
    "        right_index = index*2+2\n",
    "        if right_index < len(nodes):\n",
    "            node.right = nodes[right_index]\n",
    "            \n",
    "    return nodes[0]\n",
    "\n",
    "    "
   ]
  },
  {
   "cell_type": "code",
   "execution_count": 110,
   "metadata": {
    "collapsed": true
   },
   "outputs": [],
   "source": [
    "import random\n",
    "def test_serialize():\n",
    "    labels = (str(random.randint(0,1000)) for _ in range(random.randint(1,1000)))\n",
    "    serial = ','.join(labels)\n",
    "    return serial == serialize(deserialize(serial))"
   ]
  },
  {
   "cell_type": "markdown",
   "metadata": {},
   "source": [
    "This problem was asked by Stripe.\n",
    "\n",
    "Given an array of integers, find the first missing positive integer in linear time and constant space. In other words, find the lowest positive integer that does not exist in the array. The array can contain duplicates and negative numbers as well.\n",
    "\n",
    "For example, the input [3, 4, -1, 1] should give 2. The input [1, 2, 0] should give 3.\n",
    "\n",
    "You can modify the input array in-place."
   ]
  },
  {
   "cell_type": "code",
   "execution_count": 76,
   "metadata": {
    "collapsed": true
   },
   "outputs": [],
   "source": [
    "def find_first_missing_positive(A):\n",
    "    bitmap = [False] * (max(A) + 1)\n",
    "    for i in A:\n",
    "        if i>0:\n",
    "            bitmap[i-1] = True\n",
    "    return bitmap.index(False) + 1\n",
    "\n",
    "def find_first_missing_positive_in_place(A):\n",
    "    for i,e in enumerate(A):\n",
    "        A[i] = max(0,e)\n",
    "\n",
    "    A.append(0)\n",
    "    for e in A:\n",
    "        if e < len(A)+1:\n",
    "\n",
    "            A[abs(e)-1] = min(A[e], -A[e])\n",
    "    A[-1] = 1\n",
    "\n",
    "    for i, e in enumerate(A):\n",
    "        if e > 0: return i+1\n",
    "\n",
    "\n",
    "                                         "
   ]
  },
  {
   "cell_type": "markdown",
   "metadata": {},
   "source": [
    "This problem was asked by Jane Street.\n",
    "\n",
    "cons(a, b) constructs a pair, and car(pair) and cdr(pair) returns the first and last element of that pair. For example, car(cons(3, 4)) returns 3, and cdr(cons(3, 4)) returns 4.\n",
    "\n",
    "Given this implementation of cons:\n",
    "\n",
    "def cons(a, b):\n",
    "    return lambda f : f(a, b)\n",
    "Implement car and cdr.\n"
   ]
  },
  {
   "cell_type": "code",
   "execution_count": 12,
   "metadata": {},
   "outputs": [],
   "source": [
    "def cons(a,b):\n",
    "    return lambda f: f(a,b)\n",
    "\n",
    "def car(pair):\n",
    "    return pair(lambda a,b: a)\n",
    "\n",
    "def cdr(pair):\n",
    "    return pair(lambda a,b: b)"
   ]
  },
  {
   "cell_type": "code",
   "execution_count": null,
   "metadata": {},
   "outputs": [],
   "source": []
  },
  {
   "cell_type": "code",
   "execution_count": null,
   "metadata": {
    "collapsed": true
   },
   "outputs": [],
   "source": []
  },
  {
   "cell_type": "code",
   "execution_count": null,
   "metadata": {
    "collapsed": true
   },
   "outputs": [],
   "source": []
  }
 ],
 "metadata": {
  "kernelspec": {
   "display_name": "Python 3",
   "language": "python",
   "name": "python3"
  },
  "language_info": {
   "codemirror_mode": {
    "name": "ipython",
    "version": 3
   },
   "file_extension": ".py",
   "mimetype": "text/x-python",
   "name": "python",
   "nbconvert_exporter": "python",
   "pygments_lexer": "ipython3",
   "version": "3.6.3"
  }
 },
 "nbformat": 4,
 "nbformat_minor": 2
}
