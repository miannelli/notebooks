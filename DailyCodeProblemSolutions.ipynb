{
 "cells": [
  {
   "cell_type": "markdown",
   "metadata": {},
   "source": [
    "Given an array of numbers, return whether any two sums to K.\n",
    "\n",
    "For example, given [10, 15, 3, 7] and K of 17, return true since 10 + 7 is 17."
   ]
  },
  {
   "cell_type": "code",
   "execution_count": 163,
   "metadata": {},
   "outputs": [],
   "source": [
    "#naive approach\n",
    "from itertools import combinations\n",
    "def pair_sum_check(A, k):\n",
    "    return any(i+j == k for i, j in combinations(A, 2))\n",
    "\n",
    "#O(nlgn) approach\n",
    "def binary_search(seq, t):\n",
    "    min = 0\n",
    "    max = len(seq) - 1\n",
    "    while True:\n",
    "        if max < min:\n",
    "            return -1\n",
    "        m = (min + max) // 2\n",
    "        if seq[m] < t:\n",
    "            min = m + 1\n",
    "        elif seq[m] > t:\n",
    "            max = m - 1\n",
    "        else:\n",
    "            return m\n",
    "\n",
    "def pair_sum_check_2(A, k):\n",
    "    return any(binary_search(A[i:], k-e) != -1 for i, e in enumerate(sorted(A)))\n",
    "    \n",
    "#O(n) approach - requires bounded range of numbers in A\n",
    "from collections import defaultdict\n",
    "def pair_sum_check_3(A, k):\n",
    "    win_path = defaultdict(bool)\n",
    "    for i in A:\n",
    "        if win_path[k-i]:\n",
    "            return True\n",
    "        else:\n",
    "            win_path[i] = True\n",
    "    return False\n",
    "\n",
    "#the probably faster in python approach\n",
    "def pair_sum_check_4(A, k):\n",
    "    win_path = set(A)\n",
    "    return any(k-i in win_path for i in A)\n",
    "\n",
    "#generalized version\n",
    "def n_sum_check(A, k):\n",
    "    win_path = set()\n",
    "    for i in A:\n",
    "        if k-i in win_path:\n",
    "            return True\n",
    "        else:\n",
    "            new_paths = set()\n",
    "            new_paths.add(i)\n",
    "            for j in win_path:\n",
    "                new_paths.add(i+j)\n",
    "            win_path = win_path.union(new_paths)\n",
    "    return False\n",
    "        \n",
    "    "
   ]
  },
  {
   "cell_type": "markdown",
   "metadata": {},
   "source": [
    "Given an array of integers, return a new array such that each element at index i of the new array is the product of all the numbers in the original array except the one at i. Solve it without using division and in O(n) time.\n",
    "\n",
    "For example, if our input was [1, 2, 3, 4, 5], the expected output would be [120, 60, 40, 30, 24]. If our input was [3, 2, 1], the expected output would be [2, 3, 6]."
   ]
  },
  {
   "cell_type": "code",
   "execution_count": 164,
   "metadata": {
    "collapsed": true
   },
   "outputs": [],
   "source": [
    "def product_complement(A):\n",
    "    A2 = [1] * len(A)\n",
    "    for i, _ in enumerate(A[1:], 1):\n",
    "        A2[i] *= A[i-1] * A2[i-1]\n",
    "    \n",
    "    A3 = [1] * len(A)\n",
    "    for i, _ in reversed(list(enumerate(A[:-1], 0))):\n",
    "        A3[i] *= A[i+1] * A3[i+1] \n",
    "        \n",
    "    return [i*j for i, j in zip(A2, A3)]"
   ]
  },
  {
   "cell_type": "code",
   "execution_count": null,
   "metadata": {},
   "outputs": [],
   "source": []
  },
  {
   "cell_type": "code",
   "execution_count": null,
   "metadata": {},
   "outputs": [],
   "source": []
  },
  {
   "cell_type": "code",
   "execution_count": 165,
   "metadata": {},
   "outputs": [
    {
     "data": {
      "text/plain": [
       "False"
      ]
     },
     "execution_count": 165,
     "metadata": {},
     "output_type": "execute_result"
    }
   ],
   "source": [
    "\n",
    "pair_sum_check_4([10, 15, 3, 7],11 )"
   ]
  },
  {
   "cell_type": "code",
   "execution_count": 149,
   "metadata": {},
   "outputs": [
    {
     "name": "stdout",
     "output_type": "stream",
     "text": [
      "7.72 ms ± 1.44 ms per loop (mean ± std. dev. of 7 runs, 100 loops each)\n",
      "3.88 ms ± 146 µs per loop (mean ± std. dev. of 7 runs, 100 loops each)\n",
      "99.3 µs ± 15 µs per loop (mean ± std. dev. of 7 runs, 10000 loops each)\n",
      "43 µs ± 679 ns per loop (mean ± std. dev. of 7 runs, 10000 loops each)\n"
     ]
    }
   ],
   "source": [
    "import random\n",
    "A = [random.choice(range(10000)) for _ in range(1000)]\n",
    "\n",
    "%timeit pair_sum_check(A, random.randint(1,20000))\n",
    "%timeit pair_sum_check_2(A, random.randint(1,20000))\n",
    "%timeit pair_sum_check_3(A, random.randint(1,20000))\n",
    "%timeit pair_sum_check_4(A, random.randint(1,20000))\n"
   ]
  },
  {
   "cell_type": "code",
   "execution_count": 167,
   "metadata": {},
   "outputs": [
    {
     "name": "stdout",
     "output_type": "stream",
     "text": [
      "The slowest run took 35.36 times longer than the fastest. This could mean that an intermediate result is being cached.\n",
      "3.29 s ± 4.14 s per loop (mean ± std. dev. of 7 runs, 10 loops each)\n"
     ]
    }
   ],
   "source": [
    "%timeit n_sum_check(A, random.randint(1,20000))"
   ]
  },
  {
   "cell_type": "code",
   "execution_count": null,
   "metadata": {
    "collapsed": true
   },
   "outputs": [],
   "source": []
  },
  {
   "cell_type": "code",
   "execution_count": null,
   "metadata": {},
   "outputs": [],
   "source": []
  },
  {
   "cell_type": "code",
   "execution_count": null,
   "metadata": {},
   "outputs": [],
   "source": []
  },
  {
   "cell_type": "code",
   "execution_count": null,
   "metadata": {
    "collapsed": true
   },
   "outputs": [],
   "source": []
  }
 ],
 "metadata": {
  "kernelspec": {
   "display_name": "Python 3",
   "language": "python",
   "name": "python3"
  },
  "language_info": {
   "codemirror_mode": {
    "name": "ipython",
    "version": 3
   },
   "file_extension": ".py",
   "mimetype": "text/x-python",
   "name": "python",
   "nbconvert_exporter": "python",
   "pygments_lexer": "ipython3",
   "version": "3.6.2"
  }
 },
 "nbformat": 4,
 "nbformat_minor": 2
}
